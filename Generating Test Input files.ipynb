{
 "cells": [
  {
   "cell_type": "code",
   "execution_count": null,
   "id": "c0c04851",
   "metadata": {},
   "outputs": [],
   "source": []
  },
  {
   "cell_type": "code",
   "execution_count": 1,
   "id": "88d234ff",
   "metadata": {},
   "outputs": [],
   "source": [
    "import random\n",
    "import time\n",
    "log_types = [\n",
    "    \"INTERNAL_SERVER_ERROR\", \n",
    "    \"BAD_REQUEST\", \n",
    "    \"NOT_FOUND\", \n",
    "    \"SERVICE_UNAVAILABLE\", \n",
    "    \"UNAUTHORIZED\"\n",
    "]\n",
    "def generate_timestamp(start, end):\n",
    "    return random.randint(start, end)\n",
    "def generate_severity():\n",
    "    return round(random.uniform(1.0, 100.0), 2)\n",
    "def generate_log_entries(num_entries, start_timestamp, end_timestamp):\n",
    "    entries = []\n",
    "    for _ in range(num_entries):\n",
    "        timestamp = generate_timestamp(start_timestamp, end_timestamp)\n",
    "        log_type = random.choice(log_types)\n",
    "        severity = generate_severity()\n",
    "        entries.append(f\"1 {timestamp}; {log_type}; {severity}\")\n",
    "    return entries\n",
    "def generate_commands(num_commands, start_timestamp, end_timestamp):\n",
    "    commands = []\n",
    "    for _ in range(num_commands):\n",
    "        command = random.choice([\"2\", \"3\", \"4\"])\n",
    "        if command == \"2\":\n",
    "            log_type = random.choice(log_types)\n",
    "            commands.append(f\"{command} {log_type}\")\n",
    "        else:\n",
    "            direction = random.choice([\"BEFORE\", \"AFTER\"])\n",
    "            timestamp = generate_timestamp(start_timestamp, end_timestamp)\n",
    "            if command == \"3\":\n",
    "                commands.append(f\"{command} {direction} {timestamp}\")\n",
    "            elif command == \"4\":\n",
    "                log_type = random.choice(log_types)\n",
    "                commands.append(f\"{command} {direction} {log_type} {timestamp}\")\n",
    "    return commands\n",
    "\n",
    "if __name__ == \"__main__\":\n",
    "    num_log_entries = 1000 \n",
    "    num_commands = 400 \n",
    "    \n",
    "    start_timestamp = int(time.time() * 1000)\n",
    "    end_timestamp = start_timestamp + 1000000\n",
    "\n",
    "    log_entries = generate_log_entries(num_log_entries, start_timestamp, end_timestamp)\n",
    "    commands = generate_commands(num_commands, start_timestamp, end_timestamp)\n",
    "    input_lines = log_entries + commands\n",
    "    random.shuffle(input_lines)    # Shufflng the combined input to mix commands and log entries\n",
    "    \n",
    "    with open(\"input.txt\", \"w\") as f:\n",
    "        for line in input_lines:\n",
    "            f.write(line + \"\\n\")"
   ]
  },
  {
   "cell_type": "code",
   "execution_count": null,
   "id": "2e1ef83b",
   "metadata": {},
   "outputs": [],
   "source": []
  }
 ],
 "metadata": {
  "kernelspec": {
   "display_name": "Python 3 (ipykernel)",
   "language": "python",
   "name": "python3"
  },
  "language_info": {
   "codemirror_mode": {
    "name": "ipython",
    "version": 3
   },
   "file_extension": ".py",
   "mimetype": "text/x-python",
   "name": "python",
   "nbconvert_exporter": "python",
   "pygments_lexer": "ipython3",
   "version": "3.10.11"
  }
 },
 "nbformat": 4,
 "nbformat_minor": 5
}
